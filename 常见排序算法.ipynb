{
 "cells": [
  {
   "cell_type": "code",
   "execution_count": 57,
   "metadata": {},
   "outputs": [
    {
     "name": "stdout",
     "output_type": "stream",
     "text": [
      "[0, 1, 2, 3, 4, 5, 7, 8, 9]\n"
     ]
    }
   ],
   "source": [
    "## 冒泡 排序；时间复杂度O(n^2),最好情况0(n)\n",
    "list1 = [2,1,3,4,5,9,7,8,0]\n",
    "n = len(list1)\n",
    "for i in range(0,n-1):\n",
    "    for j in range(0,n-1-i):\n",
    "        if list1[j]>list1[j+1]:\n",
    "            list1[j],list1[j+1]= list1[j+1],list1[j]\n",
    "            \n",
    "print(list1)                  "
   ]
  },
  {
   "cell_type": "code",
   "execution_count": 52,
   "metadata": {},
   "outputs": [
    {
     "name": "stdout",
     "output_type": "stream",
     "text": [
      "[2, 1, 3, 4, 5, 9, 7, 8, 0]\n",
      "[0, 1, 2, 3, 4, 5, 7, 8, 9]\n"
     ]
    }
   ],
   "source": [
    "# 选择排序\n",
    "# 每次遍历未排序的序列中找到最小值的索引，存放到已排序队列末尾\n",
    "def select_sort(alist):\n",
    "    n = len(alist)\n",
    "    for i in range(n-1):\n",
    "        min_index = i\n",
    "        for j in range(i+1,n):\n",
    "            if alist[min_index] > alist[j]:\n",
    "                min_index = j\n",
    "        alist[i],alist[min_index] = alist[min_index],alist[i]\n",
    "if __name__ == \"__main__\":\n",
    "    alist = [2,1,3,4,5,9,7,8,0]\n",
    "    print(alist)\n",
    "    select_sort(alist)\n",
    "    print(alist)"
   ]
  },
  {
   "cell_type": "code",
   "execution_count": 54,
   "metadata": {},
   "outputs": [
    {
     "name": "stdout",
     "output_type": "stream",
     "text": [
      "[2, 1, 3, 4, 5, 9, 7, 8, 0]\n",
      "[0, 1, 2, 3, 4, 5, 7, 8, 9]\n"
     ]
    }
   ],
   "source": [
    "# 插入排序\n",
    "# 思路：分为左右两个序列，假设序列左边第一个元素已排好序，右边未排序，把未排序的元素和排好序的序列最后一个元素比较，若比他小，则交换位置，\n",
    "def insert_sort(alist):\n",
    "    n = len(alist)\n",
    "    for i in range(n):\n",
    "        while i > 0:\n",
    "            if alist[i] < alist[i-1]:\n",
    "                alist[i],alist[i-1] = alist[i-1],alist[i]\n",
    "                i -= 1\n",
    "            else:\n",
    "                break\n",
    "    \n",
    "if __name__ == \"__main__\":\n",
    "    alist = [2,1,3,4,5,9,7,8,0]\n",
    "    print(alist)\n",
    "    insert_sort(alist)\n",
    "    print(alist)    "
   ]
  },
  {
   "cell_type": "code",
   "execution_count": 12,
   "metadata": {},
   "outputs": [
    {
     "name": "stdout",
     "output_type": "stream",
     "text": [
      "[2, 1, 3, 4, 5, 9, 7, 8, 0]\n",
      "[0, 1, 2, 3, 4, 5, 7, 8, 9]\n"
     ]
    }
   ],
   "source": [
    "# 快速排序\n",
    "# 时间复杂度，O(nlogn)\n",
    "\n",
    "def quick_sort(alist, first, last):\n",
    "    if first >= last:\n",
    "        return\n",
    "    mid = alist[first]           # 默认序列第一个元素作为中间值\n",
    "    low, hight = first,last      # 定义low,high两个指针，分别指向序列第一个和最后一个元素\n",
    "    \n",
    "    while low < hight:    \n",
    "        while low < hight and alist[hight] >= mid:  # 当high指针指向的元素比中间值大，指针左移\n",
    "            hight -= 1\n",
    "        alist[low] = alist[hight]                   # 否则把high指针指向的元素赋值给low指针\n",
    "        while low < hight and alist[low] < mid:    # 当low指针指向的元素比中间值小，指针右移\n",
    "            low += 1\n",
    "        alist[hight] = alist[low]                  # 否则把low指针指向的元素赋值给high指针\n",
    "\n",
    "    alist[low] = mid               # 退出循环，两个指针相遇，把中间值赋值给两指针相遇的位置\n",
    "    quick_sort(alist,first,low-1)  # 把中间值左边的序列递归操作\n",
    "    quick_sort(alist,low+1,last)   # 把中间值右边的序列递归操作\n",
    "if __name__ == \"__main__\":\n",
    "    alist = [2,1,3,4,5,9,7,8,0]\n",
    "    print(alist)\n",
    "    quick_sort(alist,0,len(alist)-1)\n",
    "    print(alist)\n",
    "    "
   ]
  },
  {
   "cell_type": "code",
   "execution_count": 19,
   "metadata": {},
   "outputs": [
    {
     "name": "stdout",
     "output_type": "stream",
     "text": [
      "True\n",
      "False\n",
      "[1, 3, 5, 9, 10, 12, 34, 55]\n"
     ]
    }
   ],
   "source": [
    "# 二分查找\n",
    "def binary_search(alist,item):\n",
    "    '''递归'''\n",
    "    alist.sort()\n",
    "    length = len(alist)\n",
    "    if length >= 1:\n",
    "        mid = length // 2\n",
    "        if alist[mid] == item:\n",
    "            return True\n",
    "        elif alist[mid] > item:\n",
    "            return binary_search(alist[:mid], item)\n",
    "        else:\n",
    "            return binary_search(alist[mid+1:], item)\n",
    "    else:\n",
    "        return False\n",
    "    \n",
    "if __name__ == \"__main__\":\n",
    "    alist=[9,5,3,1,12,34,55,10]\n",
    "    print(binary_search(alist, 12))\n",
    "    print(binary_search(alist,100))\n",
    "    print(alist)"
   ]
  }
 ],
 "metadata": {
  "kernelspec": {
   "display_name": "Python 3",
   "language": "python",
   "name": "python3"
  },
  "language_info": {
   "codemirror_mode": {
    "name": "ipython",
    "version": 3
   },
   "file_extension": ".py",
   "mimetype": "text/x-python",
   "name": "python",
   "nbconvert_exporter": "python",
   "pygments_lexer": "ipython3",
   "version": "3.7.4"
  }
 },
 "nbformat": 4,
 "nbformat_minor": 4
}
