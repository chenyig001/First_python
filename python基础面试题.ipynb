{
 "cells": [
  {
   "cell_type": "code",
   "execution_count": 23,
   "metadata": {},
   "outputs": [
    {
     "data": {
      "text/plain": [
       "[{'name': 'c', 'age': 23}, {'name': 'b', 'age': 20}, {'name': 'a', 'age': 19}]"
      ]
     },
     "execution_count": 23,
     "metadata": {},
     "output_type": "execute_result"
    }
   ],
   "source": [
    "# 将list1中的元素的age由大到小排序\n",
    "list1 = [{\"name\":\"a\",\"age\":19},{\"name\":\"b\",\"age\":20},{\"name\":\"c\",\"age\":23}]\n",
    "sorted(list1, key=lambda x:x[\"age\"], reverse=True)"
   ]
  },
  {
   "cell_type": "code",
   "execution_count": 1,
   "metadata": {},
   "outputs": [
    {
     "data": {
      "text/plain": [
       "[('g', 10), ('o', 20), ('k', 22), ('a', 24)]"
      ]
     },
     "execution_count": 1,
     "metadata": {},
     "output_type": "execute_result"
    }
   ],
   "source": [
    "# 将字典中的value的值进行排序\n",
    "dict1={\"a\":24,\"g\":10,\"o\":20,\"k\":22}\n",
    "sorted(dict1.items(), key=lambda x:x[1])"
   ]
  },
  {
   "cell_type": "code",
   "execution_count": 13,
   "metadata": {},
   "outputs": [
    {
     "name": "stdout",
     "output_type": "stream",
     "text": [
      "olleh\n"
     ]
    }
   ],
   "source": [
    "# 反转字符串\"hello\"\n",
    "print(\"hello\"[::-1])"
   ]
  },
  {
   "cell_type": "raw",
   "metadata": {},
   "source": [
    ".read() 每次读取整个文件，它通常将读取到底文件内容放到一个字符串变量中，也就是说 .read() 生成文件内容是一个字符串类型。\n",
    ".readline()每次读取文件的一行，通常也是读取到的一行内容放到一个字符串变量中，返回str类型。\n",
    ".readlines()每次按行读取整个文件内容，将读取到的内容放到一个列表中，返回list类型。\n"
   ]
  },
  {
   "cell_type": "code",
   "execution_count": 23,
   "metadata": {},
   "outputs": [
    {
     "name": "stdout",
     "output_type": "stream",
     "text": [
      "[0, 11, 22, 33, 44, 55, 66, 77, 88, 99]\n"
     ]
    }
   ],
   "source": [
    "# 写一个列表生成式，产生公差为11的等差数列\n",
    "print([i*11 for i in range(10)])"
   ]
  },
  {
   "cell_type": "code",
   "execution_count": 26,
   "metadata": {},
   "outputs": [
    {
     "name": "stdout",
     "output_type": "stream",
     "text": [
      "{3}\n",
      "{1, 2, 4, 5}\n"
     ]
    }
   ],
   "source": [
    "# 给定两个列表，怎么找出相同的元素个不同的元素\n",
    "list1=[1,2,3]\n",
    "list2=[3,4,5]\n",
    "set1=set(list1)\n",
    "set2=set(list2)\n",
    "print(set1&set2) # 两个集合的交集\n",
    "print(set1^set2) # 两个集合的差集"
   ]
  },
  {
   "cell_type": "markdown",
   "metadata": {},
   "source": [
    "### 讲述python的深浅拷贝\n",
    "* copy() 浅拷贝:浅拷贝仅仅拷贝数据集合的第一层数据(Python会分配一块新的内存用于创建新的拷贝对象，但拷贝对象中的元素依旧是原对象(被拷贝对象)中元素，即拷贝对象与原对象的内存地址不同，但两者中的元素具有相同的内存地址)\n",
    "* deepcopy() 深拷贝:深拷贝拷贝数据集合的所有层(Python会分配一块新的内存用于创建新的拷贝对象，拷贝对象中的元素是通过递归的方式将原对象中的元素一一复制过来的(不可变元素除外)，即对象与对象中的元素都是不同的内存地址，两者完全独立分离)"
   ]
  },
  {
   "cell_type": "code",
   "execution_count": 9,
   "metadata": {},
   "outputs": [
    {
     "name": "stdout",
     "output_type": "stream",
     "text": [
      "[[1, 2], (3, 4)]\n",
      "3244108960456\n",
      "3244108962888\n",
      "[[1, 2], (3, 4)]\n",
      "3244108962632\n",
      "3244108963272\n"
     ]
    }
   ],
   "source": [
    "# 深拷贝\n",
    "from copy import deepcopy\n",
    "a=[[1,2],(3,4)]\n",
    "b=deepcopy(a)\n",
    "print(a)\n",
    "print(id(a))\n",
    "print(id(a[0]))\n",
    "\n",
    "print(b)\n",
    "print(id(b))\n",
    "print(id(b[0]))\n"
   ]
  },
  {
   "cell_type": "code",
   "execution_count": 6,
   "metadata": {},
   "outputs": [
    {
     "name": "stdout",
     "output_type": "stream",
     "text": [
      "[[1, 2], (3, 4), 5, 6, ['a', 'b']]\n"
     ]
    }
   ],
   "source": [
    "def deepcopy(obj):\n",
    "    '''深拷贝的实现'''\n",
    "    mylist = []\n",
    "\n",
    "    for item in obj:\n",
    "        # item == list\n",
    "        if isinstance(item, (list, dict)):  # 可以判断一个变量是否是列表  isinstance可以接收多个类型\n",
    "            i = deepcopy(item)\n",
    "            mylist.append(i)\n",
    "        else:\n",
    "            mylist.append(item)\n",
    "    return mylist\n",
    "if __name__ == \"__main__\":\n",
    "    alist = [[1, 2], (3, 4), 5, 6, {\"a\": 8, \"b\": 9}]\n",
    "    print(deepcopy(alist))"
   ]
  },
  {
   "cell_type": "markdown",
   "metadata": {},
   "source": [
    "### python 垃圾回收机制\n",
    "#### 垃圾回收机制是自动帮助我们管理内存，清理垃圾的一种工具\n",
    "* (1)引用计数:当一个对象被创建和引用,作为参数传递给函数时，对象的引用计数加1；\n",
    "* 当一个对象的引用被销毁时;对象别名被赋予新的对象;\n",
    "    一个对象离开他的作用域;\n",
    "    对象所在的容器被销毁或者是从容器中删除对象;\n",
    "    对象的引用计数减一.\n",
    "* 当对象的引用计数减少为0时，就意味着对象已经没有被任何人使用了，可以将及所占用的内存释放了\n",
    "* 优点:简单、直观；实时性，只要没有了就释放资源\n",
    "* 缺点:维护引用计数需要消耗一定的资源\n",
    "     无法解决循环引用的问题。A和B相互引用而再没有外部引用A与B中的任何一个，它们的引用计数都为1，但显然应该被回收。 \n",
    "\n"
   ]
  },
  {
   "cell_type": "markdown",
   "metadata": {},
   "source": [
    "###  可变类型和不可变类型\n",
    "#### 所谓可变对象是指，对象的内容可变，而不可变对象是指对象内容不可变；\n",
    "#### 可变数据类型：value值改变，id值不变；不可变数据类型：value值改变，id值也随之改变。\n",
    "* 可变类型:列表、字典\n",
    "* 不可变类型:整型、字符串、浮点型、数值型、元组"
   ]
  },
  {
   "cell_type": "markdown",
   "metadata": {},
   "source": [
    "### json序列化时，默认遇到中文会转换成unicode,如果想保留中文怎么办?"
   ]
  },
  {
   "cell_type": "code",
   "execution_count": 132,
   "metadata": {},
   "outputs": [
    {
     "name": "stdout",
     "output_type": "stream",
     "text": [
      "{\"name\": \"陈益光\"}\n",
      "{\"name\": \"\\u9648\\u76ca\\u5149\"}\n"
     ]
    }
   ],
   "source": [
    "\n",
    "import json\n",
    "b = json.dumps({\"name\":\"陈益光\"},ensure_ascii=False)\n",
    "a = json.dumps({\"name\":\"陈益光\"})\n",
    "print(b)\n",
    "print(a)"
   ]
  },
  {
   "cell_type": "code",
   "execution_count": 120,
   "metadata": {},
   "outputs": [
    {
     "name": "stdout",
     "output_type": "stream",
     "text": [
      "{2: 0}\n",
      "{2: 0, 8: 1}\n",
      "[2, 0]\n"
     ]
    }
   ],
   "source": [
    "def twosum(nums,target):\n",
    "    '''两数相加 '''\n",
    "    hash_map = dict()\n",
    "    for i, x in enumerate(nums):\n",
    "        if target - x in hash_map:\n",
    "            \n",
    "            return [i,hash_map[target-x]]\n",
    "        else:\n",
    "            hash_map[x]=i\n",
    "            print(hash_map)\n",
    "            \n",
    "            \n",
    "if __name__ == '__main__':\n",
    "    nums=[2,8,7,9]\n",
    "    target=9\n",
    "    print(twosum(nums,target))"
   ]
  },
  {
   "cell_type": "code",
   "execution_count": 121,
   "metadata": {},
   "outputs": [
    {
     "name": "stdout",
     "output_type": "stream",
     "text": [
      "[1, 2]\n"
     ]
    }
   ],
   "source": [
    "# 两数相加\n",
    "def twosum(nums,target):\n",
    "    for i in range(len(nums)-1):\n",
    "        for j in range(i+1,len(nums)):\n",
    "            if nums[i]+nums[j]==target:\n",
    "                return [i,j]\n",
    "            \n",
    "            \n",
    "if __name__ == '__main__':\n",
    "    nums=[8,2,7,9]\n",
    "    target=9\n",
    "    print(twosum(nums,target))"
   ]
  },
  {
   "cell_type": "raw",
   "metadata": {},
   "source": [
    "__new__() 与 __init__()的区别； \n",
    "1.首先用法不同\n",
    "__new__()用于创建实例，所以该方法是在实例创建之前被调用，\n",
    "__init__() 用于初始化实例，所以该方法是在实例对象创建后被调用\n",
    "\n",
    "\n",
    "2.其次传入参数不同\n",
    "　　__new__()至少有一个参数cls，代表当前类，此参数在实例化时由Python解释器自动识别；\n",
    "　　__init__()至少有一个参数self，就是这个__new__()返回的实例，__init__()在__new__()的基础上完成一些初始化的操作。 \n",
    "\n",
    "3.返回值不同\n",
    "　　__new__()必须有返回值，返回实例对象；\n",
    "　　__init__()不需要返回值。\n",
    "\n",
    "　　"
   ]
  },
  {
   "cell_type": "code",
   "execution_count": 2,
   "metadata": {},
   "outputs": [
    {
     "name": "stdout",
     "output_type": "stream",
     "text": [
      "jack jack\n",
      "True\n",
      "1503217264904 1503217264904\n"
     ]
    }
   ],
   "source": [
    "# 使用__new__实现单例模式\n",
    "class Singleton(object):\n",
    "    '''单例模式\n",
    "    每次实例化时只返回同一个实例对象\n",
    "    '''\n",
    "    def __new__(cls, *args, **kwargs):\n",
    "        if not hasattr(cls, 'instance'):   # 先判断是否已有实例\n",
    "            cls.instance = super(Singleton,cls).__new__(cls)\n",
    "        return cls.instance\n",
    "    def __init__(self):\n",
    "        self.name = \"tom\"\n",
    "\n",
    "sb = Singleton()\n",
    "sb1 = Singleton()\n",
    "sb.name = \"jack\"\n",
    "print(sb.name,sb1.name)\n",
    "print(sb is sb1)\n",
    "print(id(sb),id(sb1))\n",
    "\n",
    "# class SingleObject(object):\n",
    "#     '''非单例模式\n",
    "#     每次实例化创建新的实例对象\n",
    "#     '''\n",
    "#     def __init__(self):\n",
    "#         self.name = \"tom\"\n",
    "# sb = SingleObject()\n",
    "# sb1 = SingleObject()\n",
    "# sb.name = \"jack\"\n",
    "# print(sb.name,sb1.name)\n",
    "# print(sb is sb1)\n",
    "# print(id(sb),id(sb1))"
   ]
  },
  {
   "cell_type": "markdown",
   "metadata": {},
   "source": [
    "### 使用装饰器实现单例"
   ]
  },
  {
   "cell_type": "code",
   "execution_count": 21,
   "metadata": {},
   "outputs": [
    {
     "name": "stdout",
     "output_type": "stream",
     "text": [
      "True\n"
     ]
    }
   ],
   "source": [
    "def singleton(cls):\n",
    "    instance = {}\n",
    "    def wrapper(*args, **kwargs):\n",
    "        if cls not in instance:\n",
    "            instance[cls] = cls(*args, **kwargs)\n",
    "        return instance[cls]\n",
    "    return wrapper\n",
    "\n",
    "@singleton\n",
    "class Foo(object):\n",
    "    pass\n",
    "\n",
    "foo1 = Foo()\n",
    "foo2 = Foo()\n",
    "print (foo1 is foo2)\n",
    "\n",
    "    \n"
   ]
  },
  {
   "cell_type": "markdown",
   "metadata": {},
   "source": [
    "### GIL原理，讲一下(什么是GIL锁)\n",
    "全局解析器锁，每次只能一个线程获得cpu的使用权，为了线程安全，也就是为了解决多线程之间数据完整性和状态同步而加的锁，应为线程之间的数据是共享的"
   ]
  },
  {
   "cell_type": "code",
   "execution_count": 1,
   "metadata": {},
   "outputs": [
    {
     "name": "stdout",
     "output_type": "stream",
     "text": [
      "1\n",
      "2\n",
      "3\n",
      "4\n",
      "5\n",
      "6\n",
      "7\n",
      "8\n",
      "9\n",
      "10\n",
      "hello\n"
     ]
    }
   ],
   "source": [
    "# 实现一个装饰器，限制该函数被调用的频率，如10秒一次\n",
    "import time\n",
    "def decorate(func):\n",
    "    def wrap(*args, **kwargs):\n",
    "        for i in range(10):\n",
    "            print(i+1)\n",
    "            time.sleep(1)\n",
    "        return func(*args, **kwargs)\n",
    "    return wrap\n",
    "        \n",
    "        \n",
    "@decorate\n",
    "def index():\n",
    "    print('hello')\n",
    "        \n",
    "index()"
   ]
  },
  {
   "cell_type": "code",
   "execution_count": 7,
   "metadata": {},
   "outputs": [
    {
     "name": "stdout",
     "output_type": "stream",
     "text": [
      "[0, 2, 4, 6, 8, 10, 12, 14, 16, 18]\n",
      "<generator object <genexpr> at 0x000002F353F7AA48>\n"
     ]
    },
    {
     "data": {
      "text/plain": [
       "0"
      ]
     },
     "execution_count": 7,
     "metadata": {},
     "output_type": "execute_result"
    }
   ],
   "source": [
    "# 生成器表达式和列表推导式的区别:\n",
    "# 列表推导式比较耗内存,所有数据一次性加载到内存。而.生成器表达式遵循迭代器协议，逐个产生元素。\n",
    "# 得到的值不一样,列表推导式得到的是一个列表.生成器表达式获取的是一个生成器\n",
    "# 列表推导式一目了然，生成器表达式只是一个内存地址。\n",
    "\n",
    "# 迭代器协议是指：对象需要提供next方法，它要么返回迭代中的下一项，要么就引起一个StopIteration异常，以终止迭代 \n",
    "# 可迭代对象就是：实现了迭代器协议的对象 \n",
    "\n",
    "# 通过列表生成式，可以直接创建一个列表。但是，受到内存限制，列表容量肯定是有限的。而且，创建一个包含百万元素的列表，\n",
    "# 不仅是占用很大的内存空间，如：我们只需要访问前面的几个元素，后面大部分元素所占的空间都是浪费的。\n",
    "# 因此，没有必要创建完整的列表（节省大量内存空间）。在Python中，我们可以采用生成器：边循环，边计算的机制—>generator\n",
    "\n",
    "print([i*2 for i in range(10)])\n",
    "print((i*2 for i in range(10)))\n",
    "a = (i*2 for i in range(10))\n",
    "next(a)\n",
    "\n"
   ]
  },
  {
   "cell_type": "code",
   "execution_count": 254,
   "metadata": {},
   "outputs": [
    {
     "name": "stdout",
     "output_type": "stream",
     "text": [
      "{'张三': '白羊座', '李四': '双鱼座', '王五': '狮子座', '李六': '处女座'}\n",
      "hello world\n",
      "hello world\n",
      "('张三', '白羊座') ('李四', '双鱼座') ('王五', '狮子座') ('李六', '处女座')\n"
     ]
    }
   ],
   "source": [
    "# 字典推导式\n",
    "name = [\"张三\", \"李四\", \"王五\", \"李六\"]  # 保存名字列表\n",
    "sign = [\"白羊座\", \"双鱼座\", \"狮子座\", \"处女座\"]  #保存星座列表\n",
    "a ={key:value for key,value in zip(name, sign)}\n",
    "print(a)\n",
    "\n",
    "# 格式化输出 %s (.format())\n",
    "a = \"hello\"\n",
    "print(\"{0} world\".format(a))\n",
    "print(\"%s world\"%a)\n",
    "\n",
    "b = zip(name,sign)  # 打包\n",
    "print(*b) # 拆包"
   ]
  },
  {
   "cell_type": "markdown",
   "metadata": {},
   "source": [
    "### top命令经常用来监控Linux的系统状况，比如cpu、内存的使用\n",
    "* 孤儿进程： 一个父进程退出，而它的一个或者多个子进程还在运行，那么这些子进程就将成为孤儿进程。孤儿进程江北init进程(进程号为1)所收养，并有init进程对他们状态收集工作。\n",
    "* 僵尸进程：一个进程使用fork创建子进程，如果子进程退出，而父进程并没有调用wait或者waitpid获取子进程的状态信息，那么子进程的进程描述符等一系列信息还会保存在系统中。这种进程称之为僵死进程。\n",
    "### 如何解决僵尸进程\n",
    "* 找到僵尸进程的父进程，把父进程kill,此时僵尸进程变为孤儿进程，由init进程接管"
   ]
  },
  {
   "cell_type": "code",
   "execution_count": 261,
   "metadata": {},
   "outputs": [
    {
     "name": "stdout",
     "output_type": "stream",
     "text": [
      "张三 白羊座\n",
      "李四 双鱼座\n",
      "王五 狮子座\n",
      "李六 处女座\n"
     ]
    }
   ],
   "source": [
    "a = {'张三': '白羊座', '李四': '双鱼座', '王五': '狮子座', '李六': '处女座'}\n",
    "for key,value in a.items():\n",
    "    print(key,value)"
   ]
  },
  {
   "cell_type": "code",
   "execution_count": 38,
   "metadata": {},
   "outputs": [
    {
     "name": "stdout",
     "output_type": "stream",
     "text": [
      "ok\n"
     ]
    }
   ],
   "source": [
    "# 邮箱正则匹配\n",
    "import re\n",
    "\n",
    "mail = \"pygiao@163.com\"\n",
    "if re.match(r'^[a-zA-Z0-9-_]+@[a-zA-Z0-9-_]+(\\.[a-zA-Z0-9-_]+)+$', mail):\n",
    "    print(\"ok\")\n",
    "else:\n",
    "    print(\"error\")\n"
   ]
  },
  {
   "cell_type": "code",
   "execution_count": 57,
   "metadata": {},
   "outputs": [
    {
     "name": "stdout",
     "output_type": "stream",
     "text": [
      "500500\n"
     ]
    }
   ],
   "source": [
    "# 递归必须有一个明确的终止条件\n",
    "# 该函数所处理的数据规模必须是递减的\n",
    "# 这个转化必须是可解的\n",
    "def f(n):\n",
    "    '''递归求n的阶乘\n",
    "    n规模的实现得益于(n-1)规模的实现\n",
    "    '''\n",
    "    if 1 == n:\n",
    "        return 1\n",
    "    else:\n",
    "        return f(n-1)*n  \n",
    "\n",
    "def sum(n):\n",
    "    '''递归求1 - n的和'''\n",
    "    if 1 == n:\n",
    "        return 1\n",
    "    else:\n",
    "        return sum(n-1)+n\n",
    "if __name__ == \"__main__\":\n",
    "    print(sum(1000))"
   ]
  },
  {
   "cell_type": "code",
   "execution_count": 36,
   "metadata": {},
   "outputs": [
    {
     "name": "stdout",
     "output_type": "stream",
     "text": [
      "45\n"
     ]
    }
   ],
   "source": [
    "def sum(alist):\n",
    "    if len(alist) == 1:  # 问题的最小规模\n",
    "        return alist[0]\n",
    "    return alist[0] + sum(alist[1:])  # 调用自身：sum(alist),减小问题规模:alist[1:]\n",
    "\n",
    "print(sum([1,2,3,4,5,6,7,8,9]))"
   ]
  },
  {
   "cell_type": "code",
   "execution_count": 31,
   "metadata": {},
   "outputs": [
    {
     "data": {
      "text/plain": [
       "False"
      ]
     },
     "execution_count": 31,
     "metadata": {},
     "output_type": "execute_result"
    }
   ],
   "source": [
    "# 使用栈判断括号是否匹配\n",
    "def stack(string):\n",
    "    stack = []\n",
    "    dict1 = {\"}\":\"{\",\"]\":\"[\",\")\":\"(\"}\n",
    "    for i in string:\n",
    "        if i not in dict1:\n",
    "            stack.append(i)\n",
    "            continue\n",
    "        elif not stack or stack.pop() != dict1[i]:\n",
    "            return False\n",
    "    return not stack\n",
    "\n",
    "stack(\"()[][]}\")\n",
    "\n",
    "            \n",
    "            "
   ]
  },
  {
   "cell_type": "code",
   "execution_count": 12,
   "metadata": {},
   "outputs": [
    {
     "name": "stdout",
     "output_type": "stream",
     "text": [
      "1\n",
      "1\n",
      "2\n",
      "3\n",
      "5\n",
      "8\n",
      "13\n",
      "21\n",
      "34\n",
      "55\n",
      "0\n",
      "1\n",
      "[2, 3, 4, 5, 6, 7, 8, 9]\n"
     ]
    }
   ],
   "source": [
    "# 打印斐波那契额数列\n",
    "def feibo(n):\n",
    "    a,b = 1,1\n",
    "    for i in range(n):\n",
    "        yield a\n",
    "        a,b = b,a+b\n",
    "\n",
    "for i in feibo(10):\n",
    "    print(i)\n",
    "\n",
    "\n",
    "# 迭代器\n",
    "genumber=(i for i in range(10))\n",
    "print(next(genumber))\n",
    "print(next(genumber))\n",
    "print([i for i in genumber])"
   ]
  },
  {
   "cell_type": "code",
   "execution_count": 24,
   "metadata": {},
   "outputs": [
    {
     "name": "stdout",
     "output_type": "stream",
     "text": [
      "{'age': 18, 'addr': 'zhanjiang', 'name': 'tom'}\n",
      "[inf]\n"
     ]
    }
   ],
   "source": [
    "dic = {\"age\":18,\"addr\":\"zhanjiang\"}\n",
    "\n",
    "li = []\n",
    "dic[\"name\"]=\"tom\"\n",
    "\n",
    "a = hash(\"addr\")%len(dic)\n",
    "print((dic))\n",
    "\n",
    "import math\n",
    "a = [math.inf]\n",
    "print(a)\n",
    "# print(len(dic))\n",
    "# print(dic.get(\"age\"))\n",
    "\n"
   ]
  },
  {
   "cell_type": "markdown",
   "metadata": {},
   "source": [
    "### 函数调用的时候参数的传递方式是值传递还是引用传递：\n",
    "#### python的参数传递有:位置参数、默认参数、可变参数、关键字参数:\n",
    "* 函数的传值到底是值传递还是引用传递,要分情况:\n",
    "* 不可变参数用值传递:像整数和字符串这样的不可变对象,是通过拷贝进行传递的,因为你无论如何都不可能在原处改变\n",
    "* 可变参数是引用传递的:比如像列表,字典这样的对象是通过引用传递"
   ]
  },
  {
   "cell_type": "markdown",
   "metadata": {},
   "source": [
    "### 递归函数停止的条件?\n",
    "* 递归的终止条件-般定义在递归函数内部,在递归调用前要做-个条件判断，根据判断的结果选择是继续调用自身,还是 return ;返回终止递归。\n",
    "终止的条件:  \n",
    "    1. 判断递归的次数是否达到某一限定值 \n",
    "    2. 判断运算的结果是否达到某个范围等,根据设计的目的来选择"
   ]
  },
  {
   "cell_type": "markdown",
   "metadata": {},
   "source": [
    "\n",
    "# 使用__new__实现单例模式\n",
    "    class SingleObject(object):\n",
    "    '''单例模式\n",
    "    每次实例化时只返回同一个实例对象'''\n",
    "    def __new__(cls, *args, **kwargs):\n",
    "        if not hasattr(cls, 'instance'):   # 先判断是否已有实例\n",
    "            cls.instance = super(SingleObject,cls).__new__(cls)\n",
    "        return cls.instance\n",
    "    def __init__(self):\n",
    "        self.name = \"tom\"\n",
    "\n",
    "    sb = SingleObject()\n",
    "    sb1 = SingleObject()\n",
    "    sb.name = \"jack\"\n",
    "    print(sb.name,sb1.name)\n",
    "    print(sb is sb1)\n",
    "    print(id(sb),id(sb1))\n",
    "    \n",
    "    jack jack\n",
    "    True\n",
    "    1827946506824 1827946506824\n",
    "\n"
   ]
  },
  {
   "cell_type": "markdown",
   "metadata": {},
   "source": [
    "### 双下划线和单下划线的区别\n",
    "* 单下划线开始的变量叫做保护变量，意思是只有类对象和自己能访问到这个变量\n",
    "* 双下划线开始的是私有变量，意思是只有类对象自己能访问，连子类对象都不能访问到这个数据"
   ]
  },
  {
   "cell_type": "markdown",
   "metadata": {},
   "source": [
    "### select,poll,epoll模型的区别?\n",
    "* I/O多路复用的本质就是用select/poll/epoll。去监听多个socket对象，如果其中的socket对象有变化，只要有变化，用户进程就知道了\n",
    "* select是不断轮询去监听的socket,socket个数有限，一般为1024个\n",
    "* pol还是采用轮询方式监听，只不过没有个数限制\n",
    "* epoll并不是采用轮询方式去监听了，而是当socket有变化时通过回调的方式主动告知用户进程\n",
    "* 这里“多路”指的是多个网络连接，“复用”指的是复用同一个线程。采用多路 I/O 复用技术可以让单个线程高效的处理多个连接请求（尽量减少网络IO的时间消耗）"
   ]
  },
  {
   "cell_type": "markdown",
   "metadata": {},
   "source": [
    "###  什么是并发和并行？\n",
    "* 并发：同一时刻只能处理一个任务，但可以交替处理多个任务。（一个处理器同时处理多个任务）\n",
    "* 并行：同一时刻可以处理多个任务。（多个处理器或者多核处理器同时处理多个不同的任务）\n",
    "* 类比：并发是一个人同时吃三个馒头，而并行是三个人同时吃三个馒头。"
   ]
  },
  {
   "cell_type": "markdown",
   "metadata": {},
   "source": [
    "### 同步和异步，阻塞和非阻塞的区别\n",
    "* 同步：执行一个操作后，需要主动等待返回结果\n",
    "* 异步：执行一个操作后，不需要主动等待返回结果，若收到结果通知，再回来执行刚才没执行完的操作\n",
    "* 同步和异步关心的问题是：要不要主动等待结果。\n",
    "\n",
    "\n",
    "* 阻塞：在执行一个操作时，不能做其他操作\n",
    "* 非租塞：在执行一个操作时，可以做其他操作\n",
    "* 阻塞和非租塞关心的区别：能不能做其他操作"
   ]
  },
  {
   "cell_type": "markdown",
   "metadata": {},
   "source": [
    "### 进程、线程对比\n",
    "1. 定义\n",
    "    * 进程是系统进行资源分配和调度的一个独立单位.\n",
    "    * 线程是进程的一个实体,是CPU调度和分派的基本单位,它是比进程更小的能独立运行的基本单位.线程自己基本上不拥有系统资源,只拥有一点在运行中必不可少的资源(如程序计数器,一组寄存器和栈),但是它可与同属一个进程的其他的线程共享进程所拥有的全部资源.\n",
    "2. 区别\n",
    "    * 线程的划分尺度小于进程(资源比进程少)，使得多线程程序的并发性高。\n",
    "    * 进程在执行过程中拥有独立的内存单元，而多个线程共享内存，从而极大地提高了程序的运行效率\n",
    "3. 优缺点\n",
    "    * 线程和进程在使用上各有优缺点：线程执行开销小，但不利于资源的管理和保护；而进程正相反。"
   ]
  },
  {
   "cell_type": "markdown",
   "metadata": {},
   "source": [
    "### redis面试题\n",
    "1. redis的优势\n",
    "    * 性能极高 – Redis能读的速度是110000次/s,写的速度是81000次/s 。\n",
    "    * 支持丰富的数据类型 – Redis支持二进制案例的 Strings, Lists, Hashes, Sets 及 zset数据类型操作。\n",
    "    * 原子 – Redis的所有操作都是原子性的，同时Redis还支持对几个操作全并后的原子性执行。\n",
    "    * 丰富的特性 – Redis还支持 publish/subscribe, 通知, key 过期等等特性。\n",
    "2. redis的数据类型，以及每种数据类型的使用场景\n",
    "    * string,list,hash,set,zset\n",
    "3. redis持久化策略\n",
    "    * Redis是一个支持持久化的内存数据库，通过持久化机制把内存中的数据同步到硬盘文件来保证数据持久化。当Redis重启后通过把硬盘文件重新加载到     内存，就能达到恢复数据的目的。\n",
    "    * 实现：Redis 调用fork()创建一个子进程，将当前父进程的数据库数据复制到子进程的内存中，然后由子进程将数据集写入到临时文件中，当子进程完      成对新 RDB 文件的写入时，Redis 用新 RDB 文件替换原来的 RDB 文件，并删除旧的 RDB 文件\n",
    "    * RDB是Redis默认的持久化方式。按照一定的时间周期策略把内存的数据以快照的形式保存到硬盘的二进制文件。即Snapshot快照存储，对应产生的数据      文件为dump.rdb，通过配置文件中的save参数来定义快照的周期。（ 快照可以是其所表示的数据的一个副本，也可以是数据的一个复制品。）\n",
    "    * AOF：Redis会将每一个收到的写命令都通过Write函数追加到文件最后。当Redis重启是会通过重新执行文件中保存的写命令来在      内存中重建整     个数据库的内容。\n",
    "    * 当两种方式同时开启时，数据恢复Redis会优先选择AOF恢复。\n",
    "4. redis键过期删除策略以及内存淘汰机制：\n",
    "    * redis采用的是定期删除+惰性删除策略。\n",
    "    \n",
    "    4.1 为什么不用定时删除策略?\n",
    "    * 定时删除,用一个定时器来负责监视key,过期则自动删除。虽然内存及时释放，但是十分消耗CPU资源。在大并发请求下，CPU要将时间应用在处理请求，     而不是删除key,因此没有采用这一策略.\n",
    "    \n",
    "    4.2 定期删除+惰性删除是如何工作的呢?\n",
    "    * 定期删除，redis默认每个100ms检查，是否有过期的key,有过期key则删除。需要说明的是，redis不是每个100ms将所有的key检查一次，而是随机抽取     进行检查(如果每隔100ms,全部key进行检查，redis岂不是卡死)。因此，如果只采用定期删除策略，会导致很多key到时间没有删除。\n",
    "    * 于是，惰性删除派上用场。也就是说在你获取某个key的时候，redis会检查一下，这个key如果设置了过期时间那么是否过期了？如果过期了此时就会删     除。\n",
    "    \n",
    "    4.3 采用定期删除+惰性删除就没其他问题了么?\n",
    "    * 不是的，如果定期删除没删除key。然后你也没即时去请求key，也就是说惰性删除也没生效。这样，redis的内存会越来越高。那么就应该采用内存淘汰     机制。\n",
    "5. redis事务：\n",
    "    * Redis事务功能是通过MULTI、EXEC、DISCARD和WATCH 四个原语实现的\n",
    "    * Redis会将一个事务中的所有命令序列化，然后按顺序执行。\n",
    "    * 1.redis 不支持回滚“Redis 在事务失败时不进行回滚，而是继续执行余下的命令”， 所以 Redis 的内部可以保持简单且快速。\n",
    "    * 2.如果在一个事务中的命令出现错误，那么所有的命令都不会执行；\n",
    "    * 3.如果在一个事务中出现运行错误，那么正确的命令会被执行。\n",
    "    * 注：redis的discard只是结束本次事务,正确命令造成的影响仍然存在.\n",
    "\n",
    "    * 1）MULTI命令用于开启一个事务，它总是返回OK。 MULTI执行之后，客户端可以继续向服务器发送任意多条命令，这些命令不会立即被执行，而是被放     到一个队列中，当EXEC命令被调用时，所有队列中的命令才会被执行。\n",
    "    * 2）EXEC：执行所有事务块内的命令。返回事务块内所有命令的返回值，按命令执行的先后顺序排列。 当操作被打断时，返回空值 nil 。\n",
    "    * 3）通过调用DISCARD，客户端可以清空事务队列，并放弃执行事务， 并且客户端会从事务状态中退出。\n",
    "    * 4）WATCH 命令可以为 Redis 事务提供 check-and-set （CAS）行为。 可以监控一个或多个键，一旦其中有一个键被修改（或删除），之后的事务就不会执行，监控一直持续到EXEC命令。\n",
    "6. 单线程redis为什么快：\n",
    "    1. 纯内存操作\n",
    "    2. 单线程操作，避免了频繁的上下文切换\n",
    "    3. 采用了非阻塞I/O多路复用机制"
   ]
  },
  {
   "cell_type": "code",
   "execution_count": 1,
   "metadata": {},
   "outputs": [
    {
     "name": "stdout",
     "output_type": "stream",
     "text": [
      "[0, 1]\n"
     ]
    }
   ],
   "source": [
    "alist=[]\n",
    "a,b=0,1\n",
    "alist.append(a)\n",
    "for i in range(1):\n",
    "    \n",
    "    a,b=b,a+b\n",
    "    alist.append(a)\n",
    "print(alist)"
   ]
  },
  {
   "cell_type": "code",
   "execution_count": null,
   "metadata": {},
   "outputs": [],
   "source": []
  }
 ],
 "metadata": {
  "kernelspec": {
   "display_name": "Python 3",
   "language": "python",
   "name": "python3"
  },
  "language_info": {
   "codemirror_mode": {
    "name": "ipython",
    "version": 3
   },
   "file_extension": ".py",
   "mimetype": "text/x-python",
   "name": "python",
   "nbconvert_exporter": "python",
   "pygments_lexer": "ipython3",
   "version": "3.7.4"
  }
 },
 "nbformat": 4,
 "nbformat_minor": 4
}
